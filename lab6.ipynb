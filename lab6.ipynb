{
 "cells": [
  {
   "cell_type": "markdown",
   "id": "fdeff819",
   "metadata": {},
   "source": [
    "# Sinh Viên thực hiện Lab 6 ở Đây"
   ]
  },
  {
   "cell_type": "markdown",
   "id": "acc5d7dc",
   "metadata": {},
   "source": [
    "## Lab 6 - Bài 1"
   ]
  },
  {
   "cell_type": "code",
   "execution_count": 25,
   "id": "001e0507",
   "metadata": {},
   "outputs": [
    {
     "ename": "ImportError",
     "evalue": "cannot import name 'HinhChuNhat' from 'HinhChuNhat' (d:\\DAT2011_01\\dat2011-Minh-Sang1507\\HinhChuNhat.py)",
     "output_type": "error",
     "traceback": [
      "\u001b[31m---------------------------------------------------------------------------\u001b[39m",
      "\u001b[31mImportError\u001b[39m                               Traceback (most recent call last)",
      "\u001b[36mCell\u001b[39m\u001b[36m \u001b[39m\u001b[32mIn[25]\u001b[39m\u001b[32m, line 5\u001b[39m\n\u001b[32m      1\u001b[39m \u001b[38;5;66;03m# Code lab 6 bài 1 ở đây\u001b[39;00m\n\u001b[32m      2\u001b[39m \u001b[38;5;66;03m# ===============================\u001b[39;00m\n\u001b[32m      3\u001b[39m \u001b[38;5;66;03m# File: main_bai1.py\u001b[39;00m\n\u001b[32m      4\u001b[39m \u001b[38;5;66;03m# ===============================\u001b[39;00m\n\u001b[32m----> \u001b[39m\u001b[32m5\u001b[39m \u001b[38;5;28;01mfrom\u001b[39;00m\u001b[38;5;250m \u001b[39m\u001b[34;01mHinhChuNhat\u001b[39;00m\u001b[38;5;250m \u001b[39m\u001b[38;5;28;01mimport\u001b[39;00m HinhChuNhat, HinhVuong\n\u001b[32m      7\u001b[39m \u001b[38;5;28;01mdef\u001b[39;00m\u001b[38;5;250m \u001b[39m\u001b[34mmain\u001b[39m():\n\u001b[32m      8\u001b[39m     \u001b[38;5;28mprint\u001b[39m(\u001b[33m\"\u001b[39m\u001b[33m=== CHƯƠNG TRÌNH QUẢN LÝ HÌNH HỌC ===\u001b[39m\u001b[33m\"\u001b[39m)\n",
      "\u001b[31mImportError\u001b[39m: cannot import name 'HinhChuNhat' from 'HinhChuNhat' (d:\\DAT2011_01\\dat2011-Minh-Sang1507\\HinhChuNhat.py)"
     ]
    }
   ],
   "source": [
    "# Code lab 6 bài 1 ở đây\n",
    "# ===============================\n",
    "# File: main_bai1.py\n",
    "# ===============================\n",
    "from HinhChuNhat import HinhChuNhat, HinhVuong\n",
    "\n",
    "def main():\n",
    "    print(\"=== CHƯƠNG TRÌNH QUẢN LÝ HÌNH HỌC ===\")\n",
    "\n",
    "    # Nhập thông tin cho 2 hình chữ nhật\n",
    "    print(\"\\nNhập hình chữ nhật 1:\")\n",
    "    dai1 = float(input(\"Chiều dài: \"))\n",
    "    rong1 = float(input(\"Chiều rộng: \"))\n",
    "    hcn1 = HinhChuNhat(dai1, rong1)\n",
    "\n",
    "    print(\"\\nNhập hình chữ nhật 2:\")\n",
    "    dai2 = float(input(\"Chiều dài: \"))\n",
    "    rong2 = float(input(\"Chiều rộng: \"))\n",
    "    hcn2 = HinhChuNhat(dai2, rong2)\n",
    "\n",
    "    # Nhập thông tin cho hình vuông\n",
    "    print(\"\\nNhập hình vuông:\")\n",
    "    canh = float(input(\"Cạnh: \"))\n",
    "    hv = HinhVuong(canh)\n",
    "\n",
    "    # Xuất kết quả\n",
    "    print(\"\\n=== KẾT QUẢ ===\")\n",
    "    hcn1.xuat_thong_tin()\n",
    "    hcn2.xuat_thong_tin()\n",
    "    hv.xuat_thong_tin()\n",
    "\n",
    "if __name__ == \"__main__\":\n",
    "    main()\n",
    "\n",
    "\n"
   ]
  },
  {
   "cell_type": "markdown",
   "id": "c0835310",
   "metadata": {},
   "source": [
    "## Lab 6 - Bài 2"
   ]
  },
  {
   "cell_type": "code",
   "execution_count": null,
   "id": "fa9cb39f",
   "metadata": {},
   "outputs": [],
   "source": [
    "# Code lab 6  bài 2 ở đây"
   ]
  },
  {
   "cell_type": "markdown",
   "id": "0f2483fe",
   "metadata": {},
   "source": [
    "## Lab 6 - Bài 3"
   ]
  },
  {
   "cell_type": "code",
   "execution_count": null,
   "id": "7034990b",
   "metadata": {},
   "outputs": [],
   "source": [
    "# Code lab 6  bài 3 ở đây"
   ]
  },
  {
   "cell_type": "markdown",
   "id": "d36ea3d3",
   "metadata": {},
   "source": [
    "## Lab 6 - Bài 4"
   ]
  },
  {
   "cell_type": "code",
   "execution_count": 24,
   "id": "4c707ec1",
   "metadata": {},
   "outputs": [
    {
     "ename": "ImportError",
     "evalue": "cannot import name 'QuanLySinhVien' from 'Quanlysv' (d:\\DAT2011_01\\dat2011-Minh-Sang1507\\Quanlysv.py)",
     "output_type": "error",
     "traceback": [
      "\u001b[31m---------------------------------------------------------------------------\u001b[39m",
      "\u001b[31mImportError\u001b[39m                               Traceback (most recent call last)",
      "\u001b[36mCell\u001b[39m\u001b[36m \u001b[39m\u001b[32mIn[24]\u001b[39m\u001b[32m, line 1\u001b[39m\n\u001b[32m----> \u001b[39m\u001b[32m1\u001b[39m \u001b[38;5;28;01mfrom\u001b[39;00m\u001b[38;5;250m \u001b[39m\u001b[34;01mQuanlysv\u001b[39;00m\u001b[38;5;250m \u001b[39m\u001b[38;5;28;01mimport\u001b[39;00m QuanLySinhVien\n\u001b[32m      3\u001b[39m \u001b[38;5;28;01mdef\u001b[39;00m\u001b[38;5;250m \u001b[39m\u001b[34mmain\u001b[39m():\n\u001b[32m      4\u001b[39m     ql = QuanLySinhVien()\n",
      "\u001b[31mImportError\u001b[39m: cannot import name 'QuanLySinhVien' from 'Quanlysv' (d:\\DAT2011_01\\dat2011-Minh-Sang1507\\Quanlysv.py)"
     ]
    }
   ],
   "source": [
    "from Quanlysv import QuanLySinhVien\n",
    "\n",
    "def main():\n",
    "    ql = QuanLySinhVien()\n",
    "    while True:\n",
    "        print(\"\\n====== MENU QUẢN LÝ SINH VIÊN ======\")\n",
    "        print(\"1. Nhập danh sách sinh viên\")\n",
    "        print(\"2. Xuất danh sách sinh viên\")\n",
    "        print(\"3. Xuất danh sách sinh viên giỏi\")\n",
    "        print(\"4. Sắp xếp danh sách theo điểm giảm dần\")\n",
    "        print(\"5. Thoát\")\n",
    "\n",
    "        choice = input(\"Chọn chức năng (1-5): \").strip()\n",
    "\n",
    "        if choice == \"1\":\n",
    "            ql.nhap_danh_sach_sinh_vien()\n",
    "        elif choice == \"2\":\n",
    "            ql.xuat_danh_sach_sinh_vien()\n",
    "        elif choice == \"3\":\n",
    "            ql.xuat_danh_sach_sinh_vien_gioi()\n",
    "        elif choice == \"4\":\n",
    "            ql.sap_xep_dssv()\n",
    "        elif choice == \"5\":\n",
    "            print(\"Tạm biệt! Kết thúc chương trình.\")\n",
    "            break\n",
    "        else:\n",
    "            print(\"Lựa chọn không hợp lệ, vui lòng nhập từ 1-5.\")\n",
    "\n",
    "\n",
    "\n",
    "\n"
   ]
  },
  {
   "cell_type": "markdown",
   "id": "e2b41d4a",
   "metadata": {},
   "source": [
    "## Lab 6 - Bài 5: bài tập làm thêm"
   ]
  },
  {
   "cell_type": "code",
   "execution_count": null,
   "id": "0e0172f7",
   "metadata": {},
   "outputs": [],
   "source": [
    "# code lab 6  bài làm thêm ở đây "
   ]
  }
 ],
 "metadata": {
  "kernelspec": {
   "display_name": "Python 3",
   "language": "python",
   "name": "python3"
  },
  "language_info": {
   "codemirror_mode": {
    "name": "ipython",
    "version": 3
   },
   "file_extension": ".py",
   "mimetype": "text/x-python",
   "name": "python",
   "nbconvert_exporter": "python",
   "pygments_lexer": "ipython3",
   "version": "3.13.7"
  }
 },
 "nbformat": 4,
 "nbformat_minor": 5
}
