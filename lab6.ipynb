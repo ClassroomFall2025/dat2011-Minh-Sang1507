{
 "cells": [
  {
   "cell_type": "markdown",
   "id": "fdeff819",
   "metadata": {},
   "source": [
    "# Sinh Viên thực hiện Lab 6 ở Đây"
   ]
  },
  {
   "cell_type": "markdown",
   "id": "acc5d7dc",
   "metadata": {},
   "source": [
    "## Lab 6 - Bài 1"
   ]
  },
  {
   "cell_type": "code",
   "execution_count": 1,
   "id": "001e0507",
   "metadata": {},
   "outputs": [
    {
     "name": "stdout",
     "output_type": "stream",
     "text": [
      "Hình chữ nhật: dài = 4, rộng = 5, chu vi = 18, diện tích = 20\n",
      "Hình chữ nhật: dài = 6, rộng = 8, chu vi = 28, diện tích = 48\n",
      "Hình vuông: cạnh = 5, chu vi = 20, diện tích = 25\n"
     ]
    }
   ],
   "source": [
    "# Code lab 6 bài 1 ở đây\n",
    "from HinhChuNhat import ChuNhat, Vuong\n",
    "\n",
    "# Nhập 2 hình chữ nhật và 1 hình vuông\n",
    "hcn1 = ChuNhat(4, 5)\n",
    "hcn2 = ChuNhat(6, 8)\n",
    "hv = Vuong(5)\n",
    "\n",
    "# Xuất thông tin\n",
    "hcn1.xuat()\n",
    "hcn2.xuat()\n",
    "hv.xuat()\n",
    "\n",
    "\n"
   ]
  },
  {
   "cell_type": "markdown",
   "id": "c0835310",
   "metadata": {},
   "source": [
    "## Lab 6 - Bài 2"
   ]
  },
  {
   "cell_type": "code",
   "execution_count": 4,
   "id": "fa9cb39f",
   "metadata": {},
   "outputs": [],
   "source": [
    "# Code lab 6  bài 2 ở đây\n",
    "class SinhvienPoly:\n",
    "    def __init__(self, ho_ten, nganh_hoc):\n",
    "        self.ho_ten = ho_ten.strip()\n",
    "        self.nganh_hoc = nganh_hoc.strip()\n",
    "\n",
    "    def get_diem(self):\n",
    "        \n",
    "        return 0.0\n",
    "\n",
    "    def get_hoc_luc(self):\n",
    "        diem = self.get_diem()\n",
    "        if diem is None:\n",
    "            return \"Không xác định\"\n",
    "        if diem >= 9:\n",
    "            return \"Xuất sắc\"\n",
    "        elif diem >= 8:\n",
    "            return \"Giỏi\"\n",
    "        elif diem >= 7:\n",
    "            return \"Khá\"\n",
    "        elif diem >= 5:\n",
    "            return \"Trung bình\"\n",
    "        elif diem >= 0:\n",
    "            return \"Yếu\"\n",
    "        else:\n",
    "            return \"Không xác định\"\n",
    "\n",
    "    def __str__(self):\n",
    "        diem = self.get_diem()\n",
    "        diem_str = f\"{diem:.2f}\" if isinstance(diem, (int, float)) else \"N/A\"\n",
    "        return f\"{self.ho_ten:20s} | {self.nganh_hoc:6s} | {diem_str:6s} | {self.get_hoc_luc():12s}\"\n",
    "\n",
    "    def xuat(self):\n",
    "        print(self.__str__())\n",
    "\n",
    "\n",
    "class SinhvienIT(SinhvienPoly):\n",
    "    def __init__(self, ho_ten, nganh_hoc, diem_java, diem_html, diem_css):\n",
    "        super().__init__(ho_ten, nganh_hoc)\n",
    "        self.diem_java = float(diem_java)\n",
    "        self.diem_html = float(diem_html)\n",
    "        self.diem_css = float(diem_css)\n",
    "\n",
    "    def get_diem(self):\n",
    "        # (2*java + html + css)/4\n",
    "        return (2 * self.diem_java + self.diem_html + self.diem_css) / 4.0\n",
    "\n",
    "\n",
    "class SinhvienBiz(SinhvienPoly):\n",
    "    def __init__(self, ho_ten, nganh_hoc, diem_marketing, diem_sales):\n",
    "        super().__init__(ho_ten, nganh_hoc)\n",
    "        self.diem_marketing = float(diem_marketing)\n",
    "        self.diem_sales = float(diem_sales)\n",
    "\n",
    "    def get_diem(self):\n",
    "    \n",
    "     return (2 * self.diem_marketing + self.diem_sales) / 3.0\n"
   ]
  },
  {
   "cell_type": "markdown",
   "id": "0f2483fe",
   "metadata": {},
   "source": [
    "## Lab 6 - Bài 3"
   ]
  },
  {
   "cell_type": "code",
   "execution_count": 5,
   "id": "7034990b",
   "metadata": {},
   "outputs": [],
   "source": [
    "# Code lab 6  bài 3 ở đây\n",
    "from SinhvienPoly import SinhvienIT, SinhvienBiz, SinhvienPoly\n",
    "\n",
    "class QuanLySinhVien:\n",
    "    def __init__(self):\n",
    "        self.dssv = []\n",
    "\n",
    "    def nhap_danh_sach_sinh_vien(self):\n",
    "        print(\"\\n--- Nhập danh sách sinh viên ---\")\n",
    "        while True:\n",
    "            hoten = input(\"Nhập họ tên sinh viên (nhấn Enter để dừng): \").strip()\n",
    "            if hoten == \"\":\n",
    "                print(\"Kết thúc nhập danh sách.\")\n",
    "                break\n",
    "\n",
    "            nganh = input(\"Nhập ngành học (IT/BIZ): \").strip().lower()\n",
    "            if \"it\" in nganh:\n",
    "                diem_java = self._nhap_float(\"Nhập điểm Java: \")\n",
    "                diem_html = self._nhap_float(\"Nhập điểm HTML: \")\n",
    "                diem_css = self._nhap_float(\"Nhập điểm CSS: \")\n",
    "                sv = SinhvienIT(hoten, \"IT\", diem_java, diem_html, diem_css)\n",
    "                self.dssv.append(sv)\n",
    "                print(f\"Đã thêm: {hoten} - IT\")\n",
    "\n",
    "            elif \"biz\" in nganh or \"marketing\" in nganh or \"sale\" in nganh:\n",
    "                diem_marketing = self._nhap_float(\"Nhập điểm Marketing: \")\n",
    "                diem_sales = self._nhap_float(\"Nhập điểm Sales: \")\n",
    "                sv = SinhvienBiz(hoten, \"BIZ\", diem_marketing, diem_sales)\n",
    "                self.dssv.append(sv)\n",
    "                print(f\"Đã thêm: {hoten} - BIZ\")\n",
    "\n",
    "            else:\n",
    "                print(\"Ngành không hợp lệ. Vui lòng nhập lại (IT hoặc BIZ).\")\n",
    "\n",
    "    def _nhap_float(self, thong_bao):\n",
    "        while True:\n",
    "            try:\n",
    "                val = float(input(thong_bao))\n",
    "                if 0 <= val <= 10:\n",
    "                    return val\n",
    "                else:\n",
    "                    print(\"Điểm phải trong khoảng 0 đến 10.\")\n",
    "            except ValueError:\n",
    "                print(\"Vui lòng nhập số hợp lệ!\")\n",
    "\n",
    "    def xuat_danh_sach_sinh_vien(self):\n",
    "        print(\"\\n--- Danh sách sinh viên ---\")\n",
    "        if not self.dssv:\n",
    "            print(\"Danh sách sinh viên rỗng.\")\n",
    "            return\n",
    "        print(f\"{'Họ tên':20s} | {'Ngành':6s} | {'Điểm':6s} | {'Học lực':12s}\")\n",
    "        print(\"-\" * 54)\n",
    "        for sv in self.dssv:\n",
    "            sv.xuat()\n",
    "\n",
    "    def xuat_danh_sach_sinh_vien_gioi(self):\n",
    "        print(\"\\n--- Danh sách sinh viên có học lực GIỎI hoặc XUẤT SẮC ---\")\n",
    "        ds_gioi = [sv for sv in self.dssv if sv.get_hoc_luc() in [\"Giỏi\", \"Xuất sắc\"]]\n",
    "        if not ds_gioi:\n",
    "            print(\"Không có sinh viên giỏi.\")\n",
    "            return\n",
    "        print(f\"{'Họ tên':20s} | {'Ngành':6s} | {'Điểm':6s} | {'Học lực':12s}\")\n",
    "        print(\"-\" * 54)\n",
    "        for sv in ds_gioi:\n",
    "            sv.xuat()\n",
    "\n",
    "    def sap_xep_dssv(self):\n",
    "        print(\"\\n--- Sắp xếp danh sách sinh viên theo điểm giảm dần ---\")\n",
    "        if not self.dssv:\n",
    "            print(\"Danh sách sinh viên rỗng.\")\n",
    "            return\n",
    "        self.dssv.sort(key=lambda sv: sv.get_diem(), reverse=True)\n",
    "        print(\"Đã sắp xếp xong.\")\n",
    "        self.xuat_danh_sach_sinh_vien()\n"
   ]
  },
  {
   "cell_type": "markdown",
   "id": "d36ea3d3",
   "metadata": {},
   "source": [
    "## Lab 6 - Bài 4"
   ]
  },
  {
   "cell_type": "code",
   "execution_count": 15,
   "id": "4c707ec1",
   "metadata": {},
   "outputs": [],
   "source": [
    "from Quanlysv import QuanLySinhVien\n",
    "\n",
    "def main():\n",
    "    ql = QuanLySinhVien()\n",
    "    while True:\n",
    "        print(\"\\n====== MENU QUẢN LÝ SINH VIÊN ======\")\n",
    "        print(\"1. Nhập danh sách sinh viên\")\n",
    "        print(\"2. Xuất danh sách sinh viên\")\n",
    "        print(\"3. Xuất danh sách sinh viên giỏi\")\n",
    "        print(\"4. Sắp xếp danh sách theo điểm giảm dần\")\n",
    "        print(\"5. Thoát\")\n",
    "\n",
    "        choice = input(\"Chọn chức năng (1-5): \").strip()\n",
    "\n",
    "        if choice == \"1\":\n",
    "            ql.nhap_danh_sach_sinh_vien()\n",
    "        elif choice == \"2\":\n",
    "            ql.xuat_danh_sach_sinh_vien()\n",
    "        elif choice == \"3\":\n",
    "            ql.xuat_danh_sach_sinh_vien_gioi()\n",
    "        elif choice == \"4\":\n",
    "            ql.sap_xep_dssv()\n",
    "        elif choice == \"5\":\n",
    "            print(\"Tạm biệt! Kết thúc chương trình.\")\n",
    "            break\n",
    "        else:\n",
    "            print(\"Lựa chọn không hợp lệ, vui lòng nhập từ 1-5.\")\n",
    "\n",
    "\n",
    "\n",
    "\n"
   ]
  },
  {
   "cell_type": "markdown",
   "id": "e2b41d4a",
   "metadata": {},
   "source": [
    "## Lab 6 - Bài 5: bài tập làm thêm"
   ]
  },
  {
   "cell_type": "code",
   "execution_count": null,
   "id": "0e0172f7",
   "metadata": {},
   "outputs": [],
   "source": [
    "# code lab 6  bài làm thêm ở đây "
   ]
  }
 ],
 "metadata": {
  "kernelspec": {
   "display_name": "Python 3",
   "language": "python",
   "name": "python3"
  },
  "language_info": {
   "codemirror_mode": {
    "name": "ipython",
    "version": 3
   },
   "file_extension": ".py",
   "mimetype": "text/x-python",
   "name": "python",
   "nbconvert_exporter": "python",
   "pygments_lexer": "ipython3",
   "version": "3.13.7"
  }
 },
 "nbformat": 4,
 "nbformat_minor": 5
}
