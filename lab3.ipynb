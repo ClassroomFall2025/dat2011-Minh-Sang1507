{
 "cells": [
  {
   "cell_type": "markdown",
   "id": "fdeff819",
   "metadata": {},
   "source": [
    "# Sinh Viên thực hiện Lab 3 ở Đây"
   ]
  },
  {
   "cell_type": "markdown",
   "id": "acc5d7dc",
   "metadata": {},
   "source": [
    "## Lab 3 - Bài 1"
   ]
  },
  {
   "cell_type": "code",
   "execution_count": null,
   "id": "001e0507",
   "metadata": {},
   "outputs": [],
   "source": [
    "# Code lab 3 bài 1 ở đây\n",
    "# Khai báo dãy số ban đầu chưa có phần tử\n",
    "day_so = []\n",
    "\n",
    "# Khởi tạo biến\n",
    "tong = 0\n",
    "dem = 0\n",
    "\n",
    "# Nhập dãy số có kiểm soát\n",
    "while True:\n",
    "    so = input(\"Nhập số (hoặc q để thoát): \")\n",
    "    if so.lower() == \"q\":\n",
    "        print(\"Thoát nhập!\")\n",
    "        break\n",
    "    else:\n",
    "        try:\n",
    "            phan_tu = int(so)\n",
    "            day_so.append(phan_tu)\n",
    "        except ValueError:\n",
    "            print(\"Nhập không đúng, hãy nhập số hoặc q để thoát chương trình\")\n",
    "\n",
    "# In dãy số gốc\n",
    "print(\"\\nDãy số vừa nhập:\", day_so)\n",
    "\n",
    "# Sắp xếp dãy số tăng dần\n",
    "day_so.sort()\n",
    "print(\"\\nDãy số sắp xếp tăng dần:\", day_so)\n",
    "print(\"Giá trị nhỏ nhất:\", day_so[0])\n",
    "print(\"Giá trị lớn nhất:\", day_so[-1])\n",
    "\n",
    "# Sắp xếp dãy số giảm dần\n",
    "day_so.sort(reverse=True)\n",
    "print(\"\\nDãy số sắp xếp giảm dần:\", day_so)\n",
    "print(\"Giá trị lớn nhất:\", day_so[0])\n",
    "print(\"Giá trị nhỏ nhất:\", day_so[-1])\n",
    "\n",
    "# Duyệt dãy số và tính trung bình các số chia hết cho 3\n",
    "for phan_tu in day_so:\n",
    "    if phan_tu % 3 == 0:\n",
    "        tong += phan_tu\n",
    "        dem += 1\n",
    "\n",
    "if dem != 0:\n",
    "    print(\"\\nTrung bình cộng các số chia hết cho 3:\", tong / dem)\n",
    "else:\n",
    "    print(\"\\nKhông có phần tử nào trong dãy số chia hết cho 3\")\n"
   ]
  },
  {
   "cell_type": "markdown",
   "id": "c0835310",
   "metadata": {},
   "source": [
    "## Lab 3 - Bài 2"
   ]
  },
  {
   "cell_type": "code",
   "execution_count": 1,
   "id": "fa9cb39f",
   "metadata": {},
   "outputs": [
    {
     "name": "stdout",
     "output_type": "stream",
     "text": [
      "Thoat chuong trinh\n",
      "Danh sach sinh vien: [['a', 9.0, 'xuat sac']]\n"
     ]
    }
   ],
   "source": [
    "# Code lab 3  bài 2 ở đây\n",
    "ds_sinh_vien = []\n",
    "while True:\n",
    "    ho_ten = input(\"Nhap ho ten sinh vien (nhap 'd' de thoat): \")\n",
    "    if ho_ten == \"d\":\n",
    "        print(\"Thoat chuong trinh\")\n",
    "        break\n",
    "    diem = float(input(\"Nhap diem sinh vien: \"))\n",
    "    if diem >= 9.0:\n",
    "        hoc_luc = \"xuat sac\"\n",
    "    elif diem >= 8.0:\n",
    "        hoc_luc = \"gioi\"\n",
    "    elif diem >= 6.5:\n",
    "        hoc_luc = \"kha\"\n",
    "    elif diem >= 5.0:\n",
    "        hoc_luc = \"trung binh\"\n",
    "    else:\n",
    "        hoc_luc = \"yeu\"\n",
    "    sinh_vien = [ho_ten, diem, hoc_luc]\n",
    "    ds_sinh_vien.append(sinh_vien.copy())\n",
    "print(\"Danh sach sinh vien:\", ds_sinh_vien)\n"
   ]
  },
  {
   "cell_type": "markdown",
   "id": "0f2483fe",
   "metadata": {},
   "source": [
    "## Lab 3 - Bài 3"
   ]
  },
  {
   "cell_type": "code",
   "execution_count": null,
   "id": "7034990b",
   "metadata": {},
   "outputs": [],
   "source": [
    "# Code lab 3  bài 3 ở đây\n",
    "# Nhập số nguyên từ bàn phím\n",
    "n = int(input(\"Nhập một số nguyên: \"))\n",
    "ok = True\n",
    "i = 2\n",
    "if n < 2:\n",
    "    ok = False\n",
    "else:\n",
    "    while i < n:\n",
    "        if n % i == 0:\n",
    "            ok = False\n",
    "            break\n",
    "        i += 1\n",
    "\n",
    "# Xuất kết quả\n",
    "if ok:\n",
    "    print(n, \"là số nguyên tố\")\n",
    "else:\n",
    "    print(n, \"không phải là số nguyên tố\")\n"
   ]
  },
  {
   "cell_type": "markdown",
   "id": "d36ea3d3",
   "metadata": {},
   "source": [
    "## Lab 3 - Bài 4"
   ]
  },
  {
   "cell_type": "code",
   "execution_count": 2,
   "id": "4c707ec1",
   "metadata": {},
   "outputs": [
    {
     "name": "stdout",
     "output_type": "stream",
     "text": [
      "1 x 1 = 1\n",
      "1 x 2 = 2\n",
      "1 x 3 = 3\n",
      "1 x 4 = 4\n",
      "1 x 5 = 5\n",
      "1 x 6 = 6\n",
      "1 x 7 = 7\n",
      "1 x 8 = 8\n",
      "1 x 9 = 9\n",
      "\n",
      "2 x 1 = 2\n",
      "2 x 2 = 4\n",
      "2 x 3 = 6\n",
      "2 x 4 = 8\n",
      "2 x 5 = 10\n",
      "2 x 6 = 12\n",
      "2 x 7 = 14\n",
      "2 x 8 = 16\n",
      "2 x 9 = 18\n",
      "\n",
      "3 x 1 = 3\n",
      "3 x 2 = 6\n",
      "3 x 3 = 9\n",
      "3 x 4 = 12\n",
      "3 x 5 = 15\n",
      "3 x 6 = 18\n",
      "3 x 7 = 21\n",
      "3 x 8 = 24\n",
      "3 x 9 = 27\n",
      "\n",
      "4 x 1 = 4\n",
      "4 x 2 = 8\n",
      "4 x 3 = 12\n",
      "4 x 4 = 16\n",
      "4 x 5 = 20\n",
      "4 x 6 = 24\n",
      "4 x 7 = 28\n",
      "4 x 8 = 32\n",
      "4 x 9 = 36\n",
      "\n",
      "5 x 1 = 5\n",
      "5 x 2 = 10\n",
      "5 x 3 = 15\n",
      "5 x 4 = 20\n",
      "5 x 5 = 25\n",
      "5 x 6 = 30\n",
      "5 x 7 = 35\n",
      "5 x 8 = 40\n",
      "5 x 9 = 45\n",
      "\n",
      "6 x 1 = 6\n",
      "6 x 2 = 12\n",
      "6 x 3 = 18\n",
      "6 x 4 = 24\n",
      "6 x 5 = 30\n",
      "6 x 6 = 36\n",
      "6 x 7 = 42\n",
      "6 x 8 = 48\n",
      "6 x 9 = 54\n",
      "\n",
      "7 x 1 = 7\n",
      "7 x 2 = 14\n",
      "7 x 3 = 21\n",
      "7 x 4 = 28\n",
      "7 x 5 = 35\n",
      "7 x 6 = 42\n",
      "7 x 7 = 49\n",
      "7 x 8 = 56\n",
      "7 x 9 = 63\n",
      "\n",
      "8 x 1 = 8\n",
      "8 x 2 = 16\n",
      "8 x 3 = 24\n",
      "8 x 4 = 32\n",
      "8 x 5 = 40\n",
      "8 x 6 = 48\n",
      "8 x 7 = 56\n",
      "8 x 8 = 64\n",
      "8 x 9 = 72\n",
      "\n",
      "9 x 1 = 9\n",
      "9 x 2 = 18\n",
      "9 x 3 = 27\n",
      "9 x 4 = 36\n",
      "9 x 5 = 45\n",
      "9 x 6 = 54\n",
      "9 x 7 = 63\n",
      "9 x 8 = 72\n",
      "9 x 9 = 81\n",
      "\n"
     ]
    }
   ],
   "source": [
    "# code lab 3 bài 4 ở đây\n",
    "for i in range(1, 10):\n",
    "    for j in range(1, 10):\n",
    "        print(\"%d x %d = %d\" % (i, j, i * j))\n",
    "    print()\n"
   ]
  },
  {
   "cell_type": "markdown",
   "id": "e2b41d4a",
   "metadata": {},
   "source": [
    "## Lab 3 - Bài 5: bài tập làm thêm"
   ]
  },
  {
   "cell_type": "code",
   "execution_count": null,
   "id": "0e0172f7",
   "metadata": {},
   "outputs": [],
   "source": [
    "\n"
   ]
  }
 ],
 "metadata": {
  "kernelspec": {
   "display_name": "Python 3",
   "language": "python",
   "name": "python3"
  },
  "language_info": {
   "codemirror_mode": {
    "name": "ipython",
    "version": 3
   },
   "file_extension": ".py",
   "mimetype": "text/x-python",
   "name": "python",
   "nbconvert_exporter": "python",
   "pygments_lexer": "ipython3",
   "version": "3.13.7"
  }
 },
 "nbformat": 4,
 "nbformat_minor": 5
}
