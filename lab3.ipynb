{
 "cells": [
  {
   "cell_type": "markdown",
   "id": "fdeff819",
   "metadata": {},
   "source": [
    "# Sinh Viên thực hiện Lab 3 ở Đây"
   ]
  },
  {
   "cell_type": "markdown",
   "id": "acc5d7dc",
   "metadata": {},
   "source": [
    "## Lab 3 - Bài 1"
   ]
  },
  {
   "cell_type": "code",
   "execution_count": 2,
   "id": "001e0507",
   "metadata": {},
   "outputs": [
    {
     "name": "stdout",
     "output_type": "stream",
     "text": [
      "Thoát nhập!\n",
      "\n",
      "Dãy số vừa nhập: [3, 36, 27, 15]\n",
      "\n",
      "Dãy số sắp xếp tăng dần: [3, 15, 27, 36]\n",
      "Giá trị nhỏ nhất: 3\n",
      "Giá trị lớn nhất: 36\n",
      "\n",
      "Dãy số sắp xếp giảm dần: [36, 27, 15, 3]\n",
      "Giá trị lớn nhất: 36\n",
      "Giá trị nhỏ nhất: 3\n",
      "\n",
      "Trung bình cộng các số chia hết cho 3: 20.25\n"
     ]
    }
   ],
   "source": [
    "# Code lab 3 bài 1 ở đây\n",
    "# khai báo dãy số ban đầu chưa có phần tử\n",
    "day_so = []\n",
    "\n",
    "# khởi tạo biến\n",
    "tong = 0\n",
    "dem = 0\n",
    "\n",
    "# nhập dãy số có kiểm soát\n",
    "while True:\n",
    "    so = input(\"Nhập số (hoặc q để thoát): \")\n",
    "    if so.lower() == \"q\":\n",
    "        print(\"Thoát nhập!\")\n",
    "        break\n",
    "    else:\n",
    "        try:\n",
    "            phan_tu = int(so)\n",
    "            day_so.append(phan_tu)\n",
    "        except ValueError:\n",
    "            print(\"Nhập không đúng, hãy nhập số hoặc q để thoát chương trình\")\n",
    "\n",
    "# in dãy số gốc\n",
    "print(\"\\nDãy số vừa nhập:\", day_so)\n",
    "\n",
    "# sắp xếp dãy số tăng dần\n",
    "day_so.sort()\n",
    "print(\"\\nDãy số sắp xếp tăng dần:\", day_so)\n",
    "print(\"Giá trị nhỏ nhất:\", day_so[0])\n",
    "print(\"Giá trị lớn nhất:\", day_so[-1])\n",
    "\n",
    "# sắp xếp dãy số giảm dần\n",
    "day_so.sort(reverse=True)\n",
    "print(\"\\nDãy số sắp xếp giảm dần:\", day_so)\n",
    "print(\"Giá trị lớn nhất:\", day_so[0])\n",
    "print(\"Giá trị nhỏ nhất:\", day_so[-1])\n",
    "\n",
    "# duyệt dãy số và tính trung bình các số chia hết cho 3\n",
    "for phan_tu in day_so:\n",
    "    if phan_tu % 3 == 0:\n",
    "        tong += phan_tu\n",
    "        dem += 1\n",
    "\n",
    "if dem != 0:\n",
    "    print(\"\\nTrung bình cộng các số chia hết cho 3:\", tong / dem)\n",
    "else:\n",
    "    print(\"\\nKhông có phần tử nào trong dãy số chia hết cho 3\")\n"
   ]
  },
  {
   "cell_type": "markdown",
   "id": "c0835310",
   "metadata": {},
   "source": [
    "## Lab 3 - Bài 2"
   ]
  },
  {
   "cell_type": "code",
   "execution_count": 9,
   "id": "fa9cb39f",
   "metadata": {},
   "outputs": [
    {
     "name": "stdout",
     "output_type": "stream",
     "text": [
      "Thoát chương trình\n",
      "Sinh viên: [{'họ tên': 'a', 'điểm': 10.0, 'học lực': 'Xuất sắc'}, {'họ tên': 'b', 'điểm': 7.0, 'học lực': 'Khá'}]\n"
     ]
    }
   ],
   "source": [
    "\n",
    "\n",
    "ds_sinh_vien = []\n",
    "sinh_vien = {}\n",
    "while True:\n",
    "    ho_ten = input(\"\\nNhập họ tên sinh viên (hoặc q để thoát): \")\n",
    "    if ho_ten.lower() == \"q\":\n",
    "        print(\"Thoát chương trình\")\n",
    "        break\n",
    "    diem = float(input(\"Nhập điểm sinh viên: \"))\n",
    "    sinh_vien[\"họ tên\"] = ho_ten\n",
    "    sinh_vien[\"điểm\"] = diem\n",
    "    if diem >= 9 and diem <= 10:\n",
    "        hoc_luc = \"Xuất sắc\"\n",
    "    elif diem >= 8:\n",
    "        hoc_luc = \"Giỏi\"\n",
    "    elif diem >= 7:\n",
    "        hoc_luc = \"Khá\"\n",
    "    elif diem >= 5:\n",
    "        hoc_luc = \"Trung bình\"\n",
    "    else:\n",
    "        hoc_luc = \"chưa đạt\"\n",
    "    sinh_vien[\"học lực\"] = hoc_luc\n",
    "    ds_sinh_vien.append(sinh_vien.copy())\n",
    "print(\"Sinh viên:\", ds_sinh_vien)\n",
    "       \n",
    "\n",
    " "
   ]
  },
  {
   "cell_type": "markdown",
   "id": "0f2483fe",
   "metadata": {},
   "source": [
    "## Lab 3 - Bài 3"
   ]
  },
  {
   "cell_type": "code",
   "execution_count": 5,
   "id": "7034990b",
   "metadata": {},
   "outputs": [
    {
     "name": "stdout",
     "output_type": "stream",
     "text": [
      "5 là số nguyên tố\n"
     ]
    }
   ],
   "source": [
    "# Code lab 3  bài 3 ở đây\n",
    "# Nhập số nguyên từ bàn phím\n",
    "n = int(input(\"Nhập một số nguyên: \"))\n",
    "ok = True\n",
    "if n < 2:\n",
    "    ok = False\n",
    "else:\n",
    "    i = 2\n",
    "    while i < n:  \n",
    "        if n % i == 0:   \n",
    "            ok = False\n",
    "            break\n",
    "        i += 1\n",
    "\n",
    "# Xuất kết quả\n",
    "if ok:\n",
    "    print(n, \"là số nguyên tố\")\n",
    "else:\n",
    "    print(n, \"không phải là số nguyên tố\")\n"
   ]
  },
  {
   "cell_type": "markdown",
   "id": "d36ea3d3",
   "metadata": {},
   "source": [
    "## Lab 3 - Bài 4"
   ]
  },
  {
   "cell_type": "code",
   "execution_count": 6,
   "id": "4c707ec1",
   "metadata": {},
   "outputs": [
    {
     "name": "stdout",
     "output_type": "stream",
     "text": [
      "1 x 1 = 1\n",
      "1 x 2 = 2\n",
      "1 x 3 = 3\n",
      "1 x 4 = 4\n",
      "1 x 5 = 5\n",
      "1 x 6 = 6\n",
      "1 x 7 = 7\n",
      "1 x 8 = 8\n",
      "1 x 9 = 9\n",
      "\n",
      "2 x 1 = 2\n",
      "2 x 2 = 4\n",
      "2 x 3 = 6\n",
      "2 x 4 = 8\n",
      "2 x 5 = 10\n",
      "2 x 6 = 12\n",
      "2 x 7 = 14\n",
      "2 x 8 = 16\n",
      "2 x 9 = 18\n",
      "\n",
      "3 x 1 = 3\n",
      "3 x 2 = 6\n",
      "3 x 3 = 9\n",
      "3 x 4 = 12\n",
      "3 x 5 = 15\n",
      "3 x 6 = 18\n",
      "3 x 7 = 21\n",
      "3 x 8 = 24\n",
      "3 x 9 = 27\n",
      "\n",
      "4 x 1 = 4\n",
      "4 x 2 = 8\n",
      "4 x 3 = 12\n",
      "4 x 4 = 16\n",
      "4 x 5 = 20\n",
      "4 x 6 = 24\n",
      "4 x 7 = 28\n",
      "4 x 8 = 32\n",
      "4 x 9 = 36\n",
      "\n",
      "5 x 1 = 5\n",
      "5 x 2 = 10\n",
      "5 x 3 = 15\n",
      "5 x 4 = 20\n",
      "5 x 5 = 25\n",
      "5 x 6 = 30\n",
      "5 x 7 = 35\n",
      "5 x 8 = 40\n",
      "5 x 9 = 45\n",
      "\n",
      "6 x 1 = 6\n",
      "6 x 2 = 12\n",
      "6 x 3 = 18\n",
      "6 x 4 = 24\n",
      "6 x 5 = 30\n",
      "6 x 6 = 36\n",
      "6 x 7 = 42\n",
      "6 x 8 = 48\n",
      "6 x 9 = 54\n",
      "\n",
      "7 x 1 = 7\n",
      "7 x 2 = 14\n",
      "7 x 3 = 21\n",
      "7 x 4 = 28\n",
      "7 x 5 = 35\n",
      "7 x 6 = 42\n",
      "7 x 7 = 49\n",
      "7 x 8 = 56\n",
      "7 x 9 = 63\n",
      "\n",
      "8 x 1 = 8\n",
      "8 x 2 = 16\n",
      "8 x 3 = 24\n",
      "8 x 4 = 32\n",
      "8 x 5 = 40\n",
      "8 x 6 = 48\n",
      "8 x 7 = 56\n",
      "8 x 8 = 64\n",
      "8 x 9 = 72\n",
      "\n",
      "9 x 1 = 9\n",
      "9 x 2 = 18\n",
      "9 x 3 = 27\n",
      "9 x 4 = 36\n",
      "9 x 5 = 45\n",
      "9 x 6 = 54\n",
      "9 x 7 = 63\n",
      "9 x 8 = 72\n",
      "9 x 9 = 81\n",
      "\n"
     ]
    }
   ],
   "source": [
    "# code lab 3 bài 4 ở đây\n",
    "for i in range(1, 10):       \n",
    "    for j in range(1, 10):    \n",
    "        print(\"%d x %d = %d\" % (i, j, i * j))\n",
    "    print()  "
   ]
  },
  {
   "cell_type": "markdown",
   "id": "e2b41d4a",
   "metadata": {},
   "source": [
    "## Lab 3 - Bài 5: bài tập làm thêm"
   ]
  },
  {
   "cell_type": "code",
   "execution_count": 6,
   "id": "0e0172f7",
   "metadata": {},
   "outputs": [
    {
     "name": "stdout",
     "output_type": "stream",
     "text": [
      "0. Thoát chương trình\n",
      "        1. Phep tinh co ban: Cong, tru, nhan, chia\n",
      "        2. Luy thua: Tinh x^y\n",
      "        3. Can bac hai: Tinh √x\n",
      "        4. Ham luong giac: Sin, cos, tan\n",
      "        5. Logarit: Log co so 10, ln, log co so tuy chon\n",
      "        6. Giai phuong trinh bac nhat\n",
      "        7. Giai phuong trinh bac 2\n",
      "        8. Lich su: Luu va xem lai cac phep tinh da thuc hien\n",
      "        9. Thoi gian: Hien thi thoi gian hien tai\n",
      "        10. Giao dien than thien: Menu de su dung bang tieng Viet\n",
      "        \n",
      "Phep tinh co ban: Cong, tru, nhan, chia\n",
      "0. Thoát chương trình\n",
      "        1. Phep tinh co ban: Cong, tru, nhan, chia\n",
      "        2. Luy thua: Tinh x^y\n",
      "        3. Can bac hai: Tinh √x\n",
      "        4. Ham luong giac: Sin, cos, tan\n",
      "        5. Logarit: Log co so 10, ln, log co so tuy chon\n",
      "        6. Giai phuong trinh bac nhat\n",
      "        7. Giai phuong trinh bac 2\n",
      "        8. Lich su: Luu va xem lai cac phep tinh da thuc hien\n",
      "        9. Thoi gian: Hien thi thoi gian hien tai\n",
      "        10. Giao dien than thien: Menu de su dung bang tieng Viet\n",
      "        \n",
      "Thoát chương trình\n"
     ]
    }
   ],
   "source": [
    "# code lab 3  bài làm thêm ở đây \n",
    "menu = \"\"\"0. Thoát chương trình\n",
    "        1. Phep tinh co ban: Cong, tru, nhan, chia\n",
    "        2. Luy thua: Tinh x^y\n",
    "        3. Can bac hai: Tinh √x\n",
    "        4. Ham luong giac: Sin, cos, tan\n",
    "        5. Logarit: Log co so 10, ln, log co so tuy chon\n",
    "        6. Giai phuong trinh bac nhat\n",
    "        7. Giai phuong trinh bac 2\n",
    "        8. Lich su: Luu va xem lai cac phep tinh da thuc hien\n",
    "        9. Thoi gian: Hien thi thoi gian hien tai\n",
    "        10. Giao dien than thien: Menu de su dung bang tieng Viet\n",
    "        \"\"\"\n",
    "while True:\n",
    "    print(menu)\n",
    "    lua_chon = input(\"chọn chức năng chương trình\")\n",
    "    match lua_chon:\n",
    "        case \"0\":\n",
    "            print(\"Thoát chương trình\")\n",
    "            break\n",
    "        case \"1\":\n",
    "            print(\"Phep tinh co ban: Cong, tru, nhan, chia\")\n",
    "        case \"2\":\n",
    "            print(\"Luy thua: Tinh x^y\")\n",
    "        case \"3\":\n",
    "            print(\"Can bac hai: Tinh √x\")\n",
    "        case \"4\":\n",
    "            print(\"Ham luong giac: Sin, cos, tan\")\n",
    "        case \"5\":\n",
    "            print(\"Logarit: Log co so 10, ln, log co so tuy chon\")\n",
    "        case \"6\":\n",
    "            print(\"Giai phuong trinh bac nhat\")\n",
    "        case \"7\":\n",
    "            print(\"Giai phuong trinh bac 2\")\n",
    "        case \"8\":\n",
    "            print(\"Lich su: Luu va xem lai cac phep tinh da thuc hien\")\n",
    "        case \"9\":\n",
    "            print(\"Thoi gian: Hien thi thoi gian hien tai\")\n",
    "        case \"10\":\n",
    "            print(\"Giao dien than thien: Menu de su dung bang tieng Viet\")\n",
    "        case _:\n",
    "            print(\"Lựa chọn chức năng không đúng, vui long chọn lai\")"
   ]
  }
 ],
 "metadata": {
  "kernelspec": {
   "display_name": "Python 3",
   "language": "python",
   "name": "python3"
  },
  "language_info": {
   "codemirror_mode": {
    "name": "ipython",
    "version": 3
   },
   "file_extension": ".py",
   "mimetype": "text/x-python",
   "name": "python",
   "nbconvert_exporter": "python",
   "pygments_lexer": "ipython3",
   "version": "3.13.7"
  }
 },
 "nbformat": 4,
 "nbformat_minor": 5
}
