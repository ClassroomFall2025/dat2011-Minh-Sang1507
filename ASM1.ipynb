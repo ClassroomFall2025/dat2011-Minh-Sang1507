{
 "cells": [
  {
   "cell_type": "code",
   "execution_count": 2,
   "id": "5d401ece",
   "metadata": {},
   "outputs": [
    {
     "name": "stdout",
     "output_type": "stream",
     "text": [
      "1. Nhập danh sách nhân viên từ bàn phím. Lưu thông tin nhân viên vào file.\n",
      "2. Đọc thông tin nhân viên từ file và xuất danh sách nhân viên ra màn hình.\n",
      "3. Tìm và hiển thị nhân viên theo mã nhập từ bàn phím.\n",
      "4. Xóa nhân viên theo mã nhập từ bàn phím. Cập nhật file dữ liệu.\n",
      "5. Cập nhật thông tin nhân viên theo mã nhập từ bàn phím và ghi thay đổi vào file.\n",
      "6. Tìm các nhân viên theo khoảng lương nhập từ bàn phím.\n",
      "7. Sắp xếp nhân viên theo họ và tên.\n",
      "8. Sắp xếp nhân viên theo thu nhập.\n",
      "9. Xuất 5 nhân viên có thu nhập cao nhất.\n",
      "Lựa chọn không hợp lệ, vui lòng chọn lại\n",
      "Lựa chọn không hợp lệ, vui lòng chọn lại\n",
      "Nhập danh sách nhân viên từ bàn phím. Lưu thông tin nhân viên vào file.\n",
      "Kết thúc chương trình\n"
     ]
    }
   ],
   "source": [
    "#ASM1\n",
    "menu = \"\"\"1. Nhập danh sách nhân viên từ bàn phím. Lưu thông tin nhân viên vào file.\n",
    "2. Đọc thông tin nhân viên từ file và xuất danh sách nhân viên ra màn hình.\n",
    "3. Tìm và hiển thị nhân viên theo mã nhập từ bàn phím.\n",
    "4. Xóa nhân viên theo mã nhập từ bàn phím. Cập nhật file dữ liệu.\n",
    "5. Cập nhật thông tin nhân viên theo mã nhập từ bàn phím và ghi thay đổi vào file.\n",
    "6. Tìm các nhân viên theo khoảng lương nhập từ bàn phím.\n",
    "7. Sắp xếp nhân viên theo họ và tên.\n",
    "8. Sắp xếp nhân viên theo thu nhập.\n",
    "9. Xuất 5 nhân viên có thu nhập cao nhất.\"\"\"\n",
    "print(menu)\n",
    "while True:\n",
    "    lua_chon = input(\"Chọn chức năng chương trình \")\n",
    "    match lua_chon:\n",
    "        case \"0\":\n",
    "            print(\"Kết thúc chương trình\")\n",
    "            break\n",
    "        case \"1\":\n",
    "            print(\"Nhập danh sách nhân viên từ bàn phím. Lưu thông tin nhân viên vào file.\")\n",
    "        case \"2\":\n",
    "            print(\"Đọc thông tin nhân viên từ file và xuất danh sách nhân viên ra màn hình.\")\n",
    "        case \"3\":\n",
    "            print(\"Tìm và hiển thị nhân viên theo mã nhập từ bàn phím.\")\n",
    "        case \"4\":\n",
    "            print(\"Xóa nhân viên theo mã nhập từ bàn phím. Cập nhật file dữ liệu.\")\n",
    "        case \"5\":\n",
    "            print(\"Cập nhật thông tin nhân viên theo mã nhập từ bàn phím và ghi thay đổi vào file.\")\n",
    "        case \"6\":\n",
    "            print(\"Tìm các nhân viên theo khoảng lương nhập từ bàn phím.\")\n",
    "        case \"7\":\n",
    "            print(\" Sắp xếp nhân viên theo họ và tên.\")\n",
    "        case \"8\":\n",
    "            print(\" Sắp xếp nhân viên theo thu nhập.\")\n",
    "        case \"9\":\n",
    "            print(\"Xuất 5 nhân viên có thu nhập cao nhất.\")\n",
    "        case _:\n",
    "            print(\"Lựa chọn không hợp lệ, vui lòng chọn lại\")"
   ]
  }
 ],
 "metadata": {
  "kernelspec": {
   "display_name": "Python 3",
   "language": "python",
   "name": "python3"
  },
  "language_info": {
   "codemirror_mode": {
    "name": "ipython",
    "version": 3
   },
   "file_extension": ".py",
   "mimetype": "text/x-python",
   "name": "python",
   "nbconvert_exporter": "python",
   "pygments_lexer": "ipython3",
   "version": "3.13.7"
  }
 },
 "nbformat": 4,
 "nbformat_minor": 5
}
