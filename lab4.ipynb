{
 "cells": [
  {
   "cell_type": "markdown",
   "id": "fdeff819",
   "metadata": {},
   "source": [
    "# Sinh Viên thực hiện Lab 4 ở Đây"
   ]
  },
  {
   "cell_type": "markdown",
   "id": "acc5d7dc",
   "metadata": {},
   "source": [
    "## Lab 1 - Bài 1"
   ]
  },
  {
   "cell_type": "code",
   "execution_count": null,
   "id": "001e0507",
   "metadata": {},
   "outputs": [],
   "source": [
    "# Code lab 4 bài 1 ở đây\n",
    "# hàm tính tiền nước\n",
    "def tinh_tien_nuoc(so_nuoc):\n",
    "    gia_ban_nuoc = (7500, 8800, 12000, 24000)\n",
    "    if so_nuoc <= 10:\n",
    "        tien_nuoc = so_nuoc * gia_ban_nuoc[0]\n",
    "    elif so_nuoc <= 20:\n",
    "        tien_nuoc = 10 * gia_ban_nuoc[0] + (so_nuoc - 10) * gia_ban_nuoc[1]\n",
    "    elif so_nuoc <= 30:\n",
    "        tien_nuoc = 10 * gia_ban_nuoc[0] + 10 * gia_ban_nuoc[1] + (so_nuoc - 20) * gia_ban_nuoc[2]\n",
    "    else:\n",
    "         tien_nuoc = 10 * gia_ban_nuoc[0] + 10 * gia_ban_nuoc[1] + 10 * gia_ban_nuoc[2] + (so_nuoc - 30) * gia_ban_nuoc[3]\n",
    "    return tien_nuoc"
   ]
  },
  {
   "cell_type": "markdown",
   "id": "c0835310",
   "metadata": {},
   "source": [
    "## Lab 4 - Bài 2"
   ]
  },
  {
   "cell_type": "code",
   "execution_count": null,
   "id": "fa9cb39f",
   "metadata": {},
   "outputs": [],
   "source": [
    "# Code lab 4  bài 2 ở đây\n",
    "# tính nguyên liệu làm bánh\n",
    "def tinh_nguyen_lieu(sl_dx, sl_btc, sl_bd):\n",
    "    banh_dau_xanh = {\"duong\":0.04,\"đậu\":0.07}\n",
    "    banh_thap_cam = {\"duong\":0.06,\"đậu\":0}\n",
    "    banh_deo = {\"duong\":0.05,\"đậu\":0.02}\n",
    "    nguyen_lieu ={}\n",
    "    duong_hop_banh = sl_dx * banh_dau_xanh[\"duong\"] + sl_btc * banh_thap_cam[\"duong\"] + sl_bd * banh_deo[\"duong\"]\n",
    "    dau_hop_banh = sl_dx * banh_dau_xanh[\"đậu\"] + sl_btc * banh_thap_cam[\"đậu\"] + sl_bd * banh_deo[\"đậu\"]\n",
    "    nguyen_lieu[\"duong\"] = duong_hop_banh\n",
    "    nguyen_lieu[\"dau\"] = dau_hop_banh\n",
    "    return nguyen_lieu"
   ]
  },
  {
   "cell_type": "markdown",
   "id": "0f2483fe",
   "metadata": {},
   "source": [
    "## Lab 4 - Bài 3"
   ]
  },
  {
   "cell_type": "code",
   "execution_count": null,
   "id": "7034990b",
   "metadata": {},
   "outputs": [],
   "source": [
    "# Code lab 4  bài 3 ở đây\n",
    "# Code lab 4  bài 3 ở đây\n",
    "try:\n",
    "    number=int(input(\"Nhập 1 dãy số bất kì: \"))\n",
    "    number_list=[]\n",
    "    for char in str(number):\n",
    "        number_list.append(int(char))\n",
    "    even_number_list = list(filter(lambda x: (x % 2 == 0) , number_list))\n",
    "    print(even_number_list)\n",
    "except:\n",
    "    print(\"Dữ liệu không phải số nguyên\")"
   ]
  },
  {
   "cell_type": "markdown",
   "id": "d36ea3d3",
   "metadata": {},
   "source": [
    "## Lab 4 - Bài 4"
   ]
  },
  {
   "cell_type": "code",
   "execution_count": 2,
   "id": "4c707ec1",
   "metadata": {},
   "outputs": [
    {
     "name": "stdout",
     "output_type": "stream",
     "text": [
      "==============================MENU==============================\n",
      "1. Tính tiền nước sinh hoạt\n",
      "2. Tính nguyên liệu làm bánh\n",
      "3. Thoát\n",
      "================================================================\n",
      "Tính tiền nước sinh hoạt\n",
      "tien nuoc phai tra cho so nuoc1.0là 7500.0\n",
      "==============================MENU==============================\n",
      "1. Tính tiền nước sinh hoạt\n",
      "2. Tính nguyên liệu làm bánh\n",
      "3. Thoát\n",
      "================================================================\n",
      "Thoát chương trình\n"
     ]
    }
   ],
   "source": [
    "# code lab 4 bài 4 ở đây\n",
    "# code lab 4 bài 4 ở đây\n",
    "from lab4 import tinh_tien_nuoc, tinh_nguyen_lieu\n",
    "menu ={\n",
    "    \"1\" : \"Tính tiền nước sinh hoạt\",\n",
    "    \"2\" : \"Tính nguyên liệu làm bánh\",\n",
    "    \"3\" : \"Thoát\"\n",
    "}\n",
    "while True:\n",
    "    print(\"===\"*10+\"MENU\"+\"===\"*10)\n",
    "    for k,v in menu.items():\n",
    "        print(f\"{k}. {v}\")  \n",
    "    print(\"===\"*10+\"====\"+\"===\"*10)  \n",
    "    lua_chon = input(\"nhập chức năng: \")\n",
    "    if lua_chon == \"3\":\n",
    "        print(\"Thoát chương trình\")\n",
    "        break  \n",
    "    if lua_chon == \"1\":\n",
    "        print(\"Tính tiền nước sinh hoạt\")\n",
    "        so_khoi = float(input(\"Nhập số nước\"))\n",
    "        print(f\"tien nuoc phai tra cho so nuoc{so_khoi}là {tinh_tien_nuoc(so_khoi)}\")\n",
    "    elif lua_chon == \"2\":\n",
    "        print(\"Tính nguyên liệu làm bánh\")\n",
    "    else:\n",
    "        print(\"vui lonng chọn đúng chức năng hoac 3 để thoát\")\n",
    " "
   ]
  },
  {
   "cell_type": "markdown",
   "id": "e2b41d4a",
   "metadata": {},
   "source": [
    "## Lab 4 - Bài 5: bài tập làm thêm"
   ]
  },
  {
   "cell_type": "code",
   "execution_count": null,
   "id": "0e0172f7",
   "metadata": {},
   "outputs": [],
   "source": [
    "# code lab 4  bài làm thêm ở đây "
   ]
  }
 ],
 "metadata": {
  "kernelspec": {
   "display_name": "Python 3",
   "language": "python",
   "name": "python3"
  },
  "language_info": {
   "codemirror_mode": {
    "name": "ipython",
    "version": 3
   },
   "file_extension": ".py",
   "mimetype": "text/x-python",
   "name": "python",
   "nbconvert_exporter": "python",
   "pygments_lexer": "ipython3",
   "version": "3.13.7"
  }
 },
 "nbformat": 4,
 "nbformat_minor": 5
}
