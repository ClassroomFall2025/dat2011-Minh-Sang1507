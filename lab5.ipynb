{
 "cells": [
  {
   "cell_type": "markdown",
   "id": "fdeff819",
   "metadata": {},
   "source": [
    "# Sinh Viên thực hiện Lab 5 ở Đây"
   ]
  },
  {
   "cell_type": "markdown",
   "id": "acc5d7dc",
   "metadata": {},
   "source": [
    "## Lab 5 - Bài 1"
   ]
  },
  {
   "cell_type": "code",
   "execution_count": 9,
   "id": "001e0507",
   "metadata": {},
   "outputs": [],
   "source": [
    "class SanPham:\n",
    "    def __init__(self):\n",
    "        self.ten_sp = \"\"\n",
    "        self.gia = 0.0\n",
    "        self.giam_gia = 0.0\n",
    "\n",
    "    def thue_nhap_khau(self):\n",
    "        return self.gia * 0.1\n",
    "\n",
    "    def nhap(self):\n",
    "        self.ten_sp = input(\"Nhập tên sản phẩm: \")\n",
    "        self.gia = float(input(\"Nhập giá sản phẩm: \"))\n",
    "        self.giam_gia = float(input(\"Nhập giảm giá: \"))\n",
    "\n",
    "    def xuat(self):\n",
    "        print(f\"Tên sản phẩm: {self.ten_sp}\")\n",
    "        print(f\"Đơn giá: {self.gia}\")\n",
    "        print(f\"Giảm giá: {self.giam_gia}\")\n",
    "        print(f\"Thuế nhập khẩu: {self.thue_nhap_khau()}\")\n",
    "\n",
    "\n",
    "\n",
    "\n",
    "\n"
   ]
  },
  {
   "cell_type": "markdown",
   "id": "c0835310",
   "metadata": {},
   "source": [
    "## Lab 5 - Bài 2"
   ]
  },
  {
   "cell_type": "code",
   "execution_count": 11,
   "id": "fa9cb39f",
   "metadata": {},
   "outputs": [
    {
     "name": "stdout",
     "output_type": "stream",
     "text": [
      "Nhập thông tin sản phẩm 1:\n",
      "\n",
      "Nhập thông tin sản phẩm 2:\n",
      "\n",
      "Thông tin sản phẩm 1:\n",
      "Tên sản phẩm: bia\n",
      "Đơn giá: 100000.0\n",
      "Giảm giá: 0.0\n",
      "Thuế nhập khẩu: 10000.0\n",
      "\n",
      "Thông tin sản phẩm 2:\n",
      "Tên sản phẩm: rau\n",
      "Đơn giá: 500.0\n",
      "Giảm giá: 0.0\n",
      "Thuế nhập khẩu: 50.0\n"
     ]
    }
   ],
   "source": [
    "# Code lab 5  bài 2 ở đây\n",
    "\n",
    "\n",
    "\n",
    "\n",
    "\n",
    "sp1 = SanPham()\n",
    "sp2 = SanPham()\n",
    "\n",
    "print(\"Nhập thông tin sản phẩm 1:\")\n",
    "sp1.nhap()\n",
    "\n",
    "print(\"\\nNhập thông tin sản phẩm 2:\")\n",
    "sp2.nhap()\n",
    "\n",
    "print(\"\\nThông tin sản phẩm 1:\")\n",
    "sp1.xuat()\n",
    "\n",
    "print(\"\\nThông tin sản phẩm 2:\")\n",
    "sp2.xuat()\n",
    "\n",
    "\n",
    "\n",
    "\n",
    "\n",
    "\n"
   ]
  },
  {
   "cell_type": "markdown",
   "id": "0f2483fe",
   "metadata": {},
   "source": [
    "## Lab 5 - Bài 3"
   ]
  },
  {
   "cell_type": "code",
   "execution_count": null,
   "id": "7034990b",
   "metadata": {},
   "outputs": [
    {
     "name": "stdout",
     "output_type": "stream",
     "text": [
      "Tên SP: Laptop\n",
      "Giá: 15000000\n",
      "Số lượng: 2\n",
      "Thành tiền: 30000000\n",
      "\n",
      "Cập nhật thông tin sản phẩm:\n",
      "Tên SP: Laptop\n",
      "Giá: 18000000\n",
      "Số lượng: 3\n",
      "Thành tiền: 54000000\n"
     ]
    }
   ],
   "source": [
    "# Code lab 5  bài 3 ở đây\n",
    "# Bài 3: Nâng cấp lớp SanPham với thuộc tính private và getter/setter\n",
    "\n",
    "class SanPham:\n",
    "    def __init__(self, ten_sp, gia, so_luong):\n",
    "      \n",
    "        self.__ten_sp = ten_sp\n",
    "        self.__gia = gia\n",
    "        self.__so_luong = so_luong\n",
    "\n",
    "    # ===== Getter và Setter cho tên sản phẩm =====\n",
    "    def get_ten_sp(self):\n",
    "        return self.__ten_sp\n",
    "\n",
    "    def set_ten_sp(self, ten_sp):\n",
    "        self.__ten_sp = ten_sp\n",
    "\n",
    "    # ===== Getter và Setter cho giá sản phẩm =====\n",
    "    def get_gia(self):\n",
    "        return self.__gia\n",
    "\n",
    "    def set_gia(self, gia):\n",
    "        if gia > 0:\n",
    "            self.__gia = gia\n",
    "        else:\n",
    "            print(\" Giá phải lớn hơn 0!\")\n",
    "\n",
    "    # ===== Getter và Setter cho số lượng =====\n",
    "    def get_so_luong(self):\n",
    "        return self.__so_luong\n",
    "\n",
    "    def set_so_luong(self, so_luong):\n",
    "        if so_luong >= 0:\n",
    "            self.__so_luong = so_luong\n",
    "        else:\n",
    "            print(\" Số lượng không được âm!\")\n",
    "\n",
    "    # ===== Phương thức hiển thị thông tin sản phẩm =====\n",
    "    def hien_thi(self):\n",
    "        print(f\"Tên SP: {self.__ten_sp}\")\n",
    "        print(f\"Giá: {self.__gia}\")\n",
    "        print(f\"Số lượng: {self.__so_luong}\")\n",
    "        print(f\"Thành tiền: {self.__gia * self.__so_luong}\")\n",
    "\n",
    "\n",
    "\n",
    "sp1 = SanPham(\"Laptop\", 15000000, 2)\n",
    "sp1.hien_thi()\n",
    "\n",
    "print(\"\\nCập nhật thông tin sản phẩm:\")\n",
    "sp1.set_gia(18000000)\n",
    "sp1.set_so_luong(3)\n",
    "sp1.hien_thi()\n"
   ]
  },
  {
   "cell_type": "markdown",
   "id": "d36ea3d3",
   "metadata": {},
   "source": [
    "## Lab 5 - Bài 4"
   ]
  },
  {
   "cell_type": "code",
   "execution_count": 13,
   "id": "4c707ec1",
   "metadata": {},
   "outputs": [
    {
     "name": "stdout",
     "output_type": "stream",
     "text": [
      "\n",
      "Thông tin sản phẩm 1:\n",
      "Tên sản phẩm: rau\n",
      "Đơn giá: 100.0\n",
      "Giảm giá: 200.0\n",
      "Thuế nhập khẩu: 10.0\n",
      "\n",
      "Thông tin sản phẩm 2:\n",
      "Tên sản phẩm: bia\n",
      "Đơn giá: 150.0\n",
      "Giảm giá: 50.0\n",
      "Thuế nhập khẩu: 15.0\n"
     ]
    }
   ],
   "source": [
    "# code lab 5 bài 4 ở đây\n",
    "class SanPham:\n",
    "    def __init__(self, ten_sp, gia, giam_gia):\n",
    "        self.__ten_sp = ten_sp\n",
    "        self.__gia = gia\n",
    "        self.__giam_gia = giam_gia\n",
    "\n",
    "    def thue_nhap_khau(self):\n",
    "        return self.__gia * 0.1\n",
    "\n",
    "    def xuat(self):\n",
    "        print(f\"Tên sản phẩm: {self.__ten_sp}\")\n",
    "        print(f\"Đơn giá: {self.__gia}\")\n",
    "        print(f\"Giảm giá: {self.__giam_gia}\")\n",
    "        print(f\"Thuế nhập khẩu: {self.thue_nhap_khau()}\")\n",
    "\n",
    "# Nhập thông tin và tạo sản phẩm\n",
    "ten1 = input(\"Nhập tên sản phẩm 1: \")\n",
    "gia1 = float(input(\"Nhập giá sản phẩm 1: \"))\n",
    "giam1 = float(input(\"Nhập giảm giá sản phẩm 1: \"))\n",
    "\n",
    "ten2 = input(\"Nhập tên sản phẩm 2: \")\n",
    "gia2 = float(input(\"Nhập giá sản phẩm 2: \"))\n",
    "giam2 = float(input(\"Nhập giảm giá sản phẩm 2: \"))\n",
    "\n",
    "sp1 = SanPham(ten1, gia1, giam1)\n",
    "sp2 = SanPham(ten2, gia2, giam2)\n",
    "\n",
    "print(\"\\nThông tin sản phẩm 1:\")\n",
    "sp1.xuat()\n",
    "\n",
    "print(\"\\nThông tin sản phẩm 2:\")\n",
    "sp2.xuat()\n",
    "\n",
    "\n",
    "\n",
    "\n"
   ]
  },
  {
   "cell_type": "markdown",
   "id": "e2b41d4a",
   "metadata": {},
   "source": [
    "## Lab 5 - Bài 5: bài tập làm thêm"
   ]
  },
  {
   "cell_type": "code",
   "execution_count": null,
   "id": "0e0172f7",
   "metadata": {},
   "outputs": [],
   "source": [
    "# code lab 5  bài làm thêm ở đây "
   ]
  }
 ],
 "metadata": {
  "kernelspec": {
   "display_name": "Python 3",
   "language": "python",
   "name": "python3"
  },
  "language_info": {
   "codemirror_mode": {
    "name": "ipython",
    "version": 3
   },
   "file_extension": ".py",
   "mimetype": "text/x-python",
   "name": "python",
   "nbconvert_exporter": "python",
   "pygments_lexer": "ipython3",
   "version": "3.13.7"
  }
 },
 "nbformat": 4,
 "nbformat_minor": 5
}
