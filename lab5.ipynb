{
 "cells": [
  {
   "cell_type": "markdown",
   "id": "fdeff819",
   "metadata": {},
   "source": [
    "# Sinh Viên thực hiện Lab 5 ở Đây"
   ]
  },
  {
   "cell_type": "markdown",
   "id": "acc5d7dc",
   "metadata": {},
   "source": [
    "## Lab 5 - Bài 1"
   ]
  },
  {
   "cell_type": "code",
   "execution_count": 2,
   "id": "001e0507",
   "metadata": {},
   "outputs": [],
   "source": [
    "# Code lab 5 bài 1 ở đây\n",
    "class SanPham:\n",
    "    def __init__(self, ten_san_pham, gia, giam_gia):\n",
    "        self.ten_san_pham = ten_san_pham\n",
    "        self.gia = gia\n",
    "        self.giam_gia = giam_gia\n",
    "\n",
    "    def nhap_khau(self):\n",
    "        return self.gia * 0.1\n",
    "\n",
    "    def nhap(self):\n",
    "        self.ten_san_pham = input(\"ten san pham:\")\n",
    "        self.gia = float(input(\"gia\"))\n",
    "        self.giam_gia = float(input(\"giam gia\"))\n",
    "\n",
    "    def xuat_tt_sp(self):\n",
    "        print(f\"san pham {self.ten_san_pham} co gia {self.gia} va duoc giam gia {self.giam_gia}\")\n",
    "\n",
    "\n",
    "\n",
    "\n"
   ]
  },
  {
   "cell_type": "markdown",
   "id": "c0835310",
   "metadata": {},
   "source": [
    "## Lab 5 - Bài 2"
   ]
  },
  {
   "cell_type": "code",
   "execution_count": null,
   "id": "fa9cb39f",
   "metadata": {},
   "outputs": [
    {
     "ename": "ModuleNotFoundError",
     "evalue": "No module named 'sanpham'",
     "output_type": "error",
     "traceback": [
      "\u001b[31m---------------------------------------------------------------------------\u001b[39m",
      "\u001b[31mModuleNotFoundError\u001b[39m                       Traceback (most recent call last)",
      "\u001b[36mCell\u001b[39m\u001b[36m \u001b[39m\u001b[32mIn[6]\u001b[39m\u001b[32m, line 2\u001b[39m\n\u001b[32m      1\u001b[39m \u001b[38;5;66;03m# Code lab 5  bài 2 ở đây\u001b[39;00m\n\u001b[32m----> \u001b[39m\u001b[32m2\u001b[39m \u001b[38;5;28;01mfrom\u001b[39;00m\u001b[38;5;250m \u001b[39m\u001b[34;01msanpham\u001b[39;00m\u001b[38;5;250m \u001b[39m\u001b[38;5;28;01mimport\u001b[39;00m SanPham\n\u001b[32m      4\u001b[39m \u001b[38;5;66;03m# Tạo và nhập thông tin cho 2 sản phẩm\u001b[39;00m\n\u001b[32m      5\u001b[39m sp1 = SanPham()\n",
      "\u001b[31mModuleNotFoundError\u001b[39m: No module named 'sanpham'"
     ]
    }
   ],
   "source": [
    "# Code lab 5  bài 2 ở đây\n",
    "from  import SanPham\n",
    "\n",
    "# Tạo và nhập thông tin cho 2 sản phẩm\n",
    "sp1 = SanPham()\n",
    "sp2 = SanPham()\n",
    "\n",
    "print(\"Nhập thông tin sản phẩm 1:\")\n",
    "sp1.nhap()\n",
    "\n",
    "print(\"\\nNhập thông tin sản phẩm 2:\")\n",
    "sp2.nhap()\n",
    "\n",
    "# Xuất thông tin\n",
    "print(\"\\nThông tin sản phẩm 1:\")\n",
    "sp1.xuat()\n",
    "\n",
    "print(\"Thông tin sản phẩm 2:\")\n",
    "sp2.xuat()\n"
   ]
  },
  {
   "cell_type": "markdown",
   "id": "0f2483fe",
   "metadata": {},
   "source": [
    "## Lab 5 - Bài 3"
   ]
  },
  {
   "cell_type": "code",
   "execution_count": null,
   "id": "7034990b",
   "metadata": {},
   "outputs": [],
   "source": [
    "# Code lab 5  bài 3 ở đây"
   ]
  },
  {
   "cell_type": "markdown",
   "id": "d36ea3d3",
   "metadata": {},
   "source": [
    "## Lab 5 - Bài 4"
   ]
  },
  {
   "cell_type": "code",
   "execution_count": null,
   "id": "4c707ec1",
   "metadata": {},
   "outputs": [],
   "source": [
    "# code lab 5 bài 4 ở đây"
   ]
  },
  {
   "cell_type": "markdown",
   "id": "e2b41d4a",
   "metadata": {},
   "source": [
    "## Lab 5 - Bài 5: bài tập làm thêm"
   ]
  },
  {
   "cell_type": "code",
   "execution_count": null,
   "id": "0e0172f7",
   "metadata": {},
   "outputs": [],
   "source": [
    "# code lab 5  bài làm thêm ở đây "
   ]
  }
 ],
 "metadata": {
  "kernelspec": {
   "display_name": "Python 3",
   "language": "python",
   "name": "python3"
  },
  "language_info": {
   "codemirror_mode": {
    "name": "ipython",
    "version": 3
   },
   "file_extension": ".py",
   "mimetype": "text/x-python",
   "name": "python",
   "nbconvert_exporter": "python",
   "pygments_lexer": "ipython3",
   "version": "3.13.7"
  }
 },
 "nbformat": 4,
 "nbformat_minor": 5
}
