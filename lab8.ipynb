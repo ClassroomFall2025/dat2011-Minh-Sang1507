{
 "cells": [
  {
   "cell_type": "markdown",
   "id": "fdeff819",
   "metadata": {},
   "source": [
    "# Sinh Viên thực hiện Lab 8 ở Đây"
   ]
  },
  {
   "cell_type": "markdown",
   "id": "acc5d7dc",
   "metadata": {},
   "source": [
    "## Lab 8 - Bài 1"
   ]
  },
  {
   "cell_type": "code",
   "execution_count": 1,
   "id": "001e0507",
   "metadata": {},
   "outputs": [
    {
     "name": "stdout",
     "output_type": "stream",
     "text": [
      " Họ và Tên\n",
      "------------------------------\n",
      "Họ: NGUYỄN\n",
      "Tên đệm: Minh\n",
      "Tên: SANG\n"
     ]
    }
   ],
   "source": [
    "def xu_ly_ho_ten():\n",
    "    \"\"\"Nhập họ tên và xuất họ, tên đệm, tên (Họ và Tên IN HOA).\"\"\"\n",
    "    ho_ten = input(\"Nhập họ và tên đầy đủ: \").strip()\n",
    "    \n",
    "    # Chia chuỗi thành danh sách các từ\n",
    "    parts = ho_ten.split()\n",
    "    \n",
    "    if not parts:\n",
    "        print(\"Không có thông tin họ tên được nhập.\")\n",
    "        return\n",
    "\n",
    "    # Họ là từ đầu tiên\n",
    "    ho = parts[0].upper() # Chuyển IN HOA theo yêu cầu [cite: 80]\n",
    "    \n",
    "    # Tên là từ cuối cùng\n",
    "    ten = parts[-1].upper() # Chuyển IN HOA theo yêu cầu [cite: 80]\n",
    "    \n",
    "    # Tên đệm là các từ còn lại (nếu có)\n",
    "    # Nếu chỉ có 1 từ (chỉ có họ hoặc tên), list parts[1:-1] sẽ rỗng\n",
    "    # Nếu có 2 từ (Họ Tên), parts[1:-1] cũng rỗng\n",
    "    ten_dem = \" \".join(parts[1:-1])\n",
    "\n",
    "    print(\"-\" * 30)\n",
    "    print(f\"Họ: {ho}\")\n",
    "    print(f\"Tên đệm: {ten_dem}\")\n",
    "    print(f\"Tên: {ten}\")\n",
    "\n",
    "print(\" Họ và Tên\")\n",
    "xu_ly_ho_ten()\n"
   ]
  },
  {
   "cell_type": "markdown",
   "id": "c0835310",
   "metadata": {},
   "source": [
    "## Lab 8 - Bài 2"
   ]
  },
  {
   "cell_type": "code",
   "execution_count": null,
   "id": "fa9cb39f",
   "metadata": {},
   "outputs": [
    {
     "name": "stdout",
     "output_type": "stream",
     "text": [
      "\n",
      " Kiểm tra Định dạng Dữ liệu bằng Regex \n",
      "LỖI: CMND/CCCD không đúng định dạng (phải là 9 hoặc 12 chữ số). Vui lòng nhập lại.\n",
      "LỖI: CMND/CCCD không đúng định dạng (phải là 9 hoặc 12 chữ số). Vui lòng nhập lại.\n",
      "\n",
      "--- THÔNG TIN SINH VIÊN ĐÃ NHẬP HỢP LỆ ---\n",
      "Ho Ten: Minh Sang\n",
      "Email: sang397430450@gmail.com\n",
      "So Dien Thoai: 0397430450\n",
      "Cmnd: 879456123\n"
     ]
    }
   ],
   "source": [
    "# Code lab 8  bài 2 ở đây\n",
    "ho_ten = input(\"Nhập họ tên: \")\n",
    "list_ho_ten = [tu for tu in ho_ten.split()]\n",
    "print(list_ho_ten)\n",
    "\n",
    "ten_dem = \"\"\n",
    "for phan_tu in list_ho_ten[1:-1]:\n",
    "    ten_dem += phan_tu + \" \"\n",
    "\n",
    "print(f'{list_ho_ten[0].upper()} {ten_dem}{list_ho_ten[-1].upper()}')\n",
    "\n",
    "\n",
    "import re\n",
    "\n",
    "sinh_vien = {\n",
    "    \"Họ tên\": ho_ten,\n",
    "    \"Email\": \"\",\n",
    "    \"Phone\": \"\",\n",
    "    \"CCCD\": \"\"\n",
    "}\n",
    "\n",
    "# Định nghĩa biểu thức chính quy\n",
    "regex_email = r\"^[a-zA-Z0-9._-]+@[a-zA-Z0-9.-]+\\.[a-zA-Z]{2,}$\"\n",
    "regex_phone = r\"^0[1-9]{1}[0-9]{8}$\"\n",
    "regex_cccd = r\"^(00[1-9]|0[1-8][0-9]|09[0-6])[0-9]{9}$\"\n",
    "\n",
    "# Nhập email hợp lệ\n",
    "while True:\n",
    "    email = input(\"Nhập email: \")\n",
    "    if re.match(regex_email, email):\n",
    "        print(\"Nhập email hợp lệ!\")\n",
    "        sinh_vien[\"Email\"] = email\n",
    "        break\n",
    "    else:\n",
    "        print(\"Email chưa đúng!\")\n",
    "\n",
    "# Nhập số điện thoại hợp lệ\n",
    "while True:\n",
    "    so_dien_thoai = input(\"Nhập số điện thoại: \")\n",
    "    if re.match(regex_phone, so_dien_thoai):\n",
    "        print(\"Nhập đúng phone!\")\n",
    "        sinh_vien[\"Phone\"] = so_dien_thoai\n",
    "        break\n",
    "    else:\n",
    "        print(\"Nhập chưa đúng!\")\n",
    "\n",
    "\n",
    "while True:\n",
    "    cccd = input(\"Nhập CCCD: \")\n",
    "    if re.match(regex_cccd, cccd):\n",
    "        print(\"Đúng định dạng CCCD!\")\n",
    "        sinh_vien[\"CCCD\"] = cccd\n",
    "        break\n",
    "    else:\n",
    "        print(\"Chưa đúng định dạng, nhập lại!\")\n",
    "\n",
    "import random\n",
    "\n",
    "list_ngau_nhien = [random.randint(0, 100) for _ in range(1000000)]\n",
    "\n",
    "with open(\"numbers.txt\", \"w\", encoding=\"utf-8\") as f:\n",
    "    for i, so in enumerate(list_ngau_nhien):\n",
    "        if i > 0:\n",
    "            f.write(\",\")\n",
    "        f.write(str(so))\n",
    "\n",
    "print(\"Đã ghi xong!\")\n",
    "print(\"\\n--- Thông tin sinh viên ---\")\n",
    "for key, value in sinh_vien.items():\n",
    "    print(f\"{key}: {value}\")"
   ]
  },
  {
   "cell_type": "markdown",
   "id": "0f2483fe",
   "metadata": {},
   "source": [
    "## Lab 8 - Bài 3"
   ]
  },
  {
   "cell_type": "code",
   "execution_count": null,
   "id": "7034990b",
   "metadata": {},
   "outputs": [
    {
     "name": "stdout",
     "output_type": "stream",
     "text": [
      "\n",
      "--- Bài 3: Tạo và Ghi Dữ liệu ra File (random_numbers.txt) ---\n",
      "Đang tạo và ghi 1000000 số ngẫu nhiên...\n",
      "Đã tạo và ghi thành công 1000000 số vào file 'random_numbers.txt'.\n"
     ]
    }
   ],
   "source": [
    "# Code lab 8  bài 3 ở đây\n",
    "import random\n",
    "import os\n",
    "\n",
    "FILE_NAME = \"random_numbers.txt\"\n",
    "SO_LUONG = 1000000\n",
    "GIA_TRI_MIN = 0\n",
    "GIA_TRI_MAX = 100\n",
    "\n",
    "def tao_va_ghi_du_lieu_ngau_nhien():\n",
    "    \"\"\"Tạo 1 triệu số ngẫu nhiên [0, 100] và ghi ra file.\"\"\"\n",
    "    print(f\"\\n--- Bài 3: Tạo và Ghi Dữ liệu ra File ({FILE_NAME}) ---\")\n",
    "    \n",
    "    try:\n",
    "      \n",
    "        with open(FILE_NAME, 'w') as file:\n",
    "            print(f\"Đang tạo và ghi {SO_LUONG} số ngẫu nhiên...\")\n",
    "            numbers = [str(random.randint(GIA_TRI_MIN, GIA_TRI_MAX)) \n",
    "                       for _ in range(SO_LUONG)]\n",
    "             \n",
    "            file.write(\" \".join(numbers))\n",
    "            \n",
    "        print(f\"Đã tạo và ghi thành công {SO_LUONG} số vào file '{FILE_NAME}'.\")\n",
    "\n",
    "    except IOError as e:\n",
    "        print(f\"Lỗi khi thao tác với file: {e}\")\n",
    "\n",
    "tao_va_ghi_du_lieu_ngau_nhien()"
   ]
  },
  {
   "cell_type": "markdown",
   "id": "d36ea3d3",
   "metadata": {},
   "source": [
    "## Lab 8 - Bài 4"
   ]
  },
  {
   "cell_type": "code",
   "execution_count": 4,
   "id": "4c707ec1",
   "metadata": {},
   "outputs": [
    {
     "name": "stdout",
     "output_type": "stream",
     "text": [
      "\n",
      "--- Bài 4: Đọc File và Tính Toán Thống Kê ---\n",
      "Tổng số lượng dữ liệu đã đọc: 1,000,000\n",
      "------------------------------\n",
      "Giá trị Trung bình (Mean): 49.9432 [cite: 115, 116]\n",
      "Độ lệch chuẩn (Standard Deviation): 29.1468 [cite: 117]\n"
     ]
    }
   ],
   "source": [
    "# code lab 8 bài 4 ở đây\n",
    "import statistics\n",
    "\n",
    "def doc_va_tinh_thong_ke():\n",
    "    \"\"\"Đọc file và tính toán trung bình, độ lệch chuẩn.\"\"\"\n",
    "    print(f\"\\n--- Bài 4: Đọc File và Tính Toán Thống Kê ---\")\n",
    "    \n",
    "    if not os.path.exists(FILE_NAME):\n",
    "        print(f\"LỖI: Không tìm thấy file '{FILE_NAME}'. Vui lòng chạy Bài 3 trước.\")\n",
    "        return\n",
    "\n",
    "    try:\n",
    "        with open(FILE_NAME, 'r') as file:\n",
    "            data = file.read()\n",
    "        \n",
    "        numbers = [int(num) for num in data.split() if num]\n",
    "        \n",
    "        if not numbers:\n",
    "            print(\"File không chứa dữ liệu số.\")\n",
    "            return\n",
    "        mean_value = statistics.mean(numbers)\n",
    "        std_dev_value = statistics.pstdev(numbers) \n",
    "\n",
    "        print(f\"Tổng số lượng dữ liệu đã đọc: {len(numbers):,}\")\n",
    "        print(\"-\" * 30)\n",
    "        print(f\"Giá trị Trung bình (Mean): {mean_value:.4f} [cite: 115, 116]\")\n",
    "        print(f\"Độ lệch chuẩn (Standard Deviation): {std_dev_value:.4f} [cite: 117]\")\n",
    "\n",
    "    except IOError:\n",
    "        print(f\"Lỗi đọc file '{FILE_NAME}'.\")\n",
    "    except ValueError:\n",
    "        print(\"Lỗi chuyển đổi dữ liệu sang số nguyên.\")\n",
    "    except statistics.StatisticsError as e:\n",
    "        print(f\"Lỗi thống kê: {e}\")\n",
    "\n",
    "doc_va_tinh_thong_ke()"
   ]
  },
  {
   "cell_type": "markdown",
   "id": "4420212c",
   "metadata": {},
   "source": []
  },
  {
   "cell_type": "markdown",
   "id": "e2b41d4a",
   "metadata": {},
   "source": [
    "## Lab 8 - Bài 5: bài tập làm thêm"
   ]
  },
  {
   "cell_type": "code",
   "execution_count": null,
   "id": "0e0172f7",
   "metadata": {},
   "outputs": [
    {
     "name": "stdout",
     "output_type": "stream",
     "text": [
      "['Sang']\n",
      "SANG SANG\n",
      "Nhập email hợp lệ!\n",
      "Nhập đúng phone!\n",
      "Chưa đúng định dạng, nhập lại!\n"
     ]
    }
   ],
   "source": [
    "\n",
    "\n"
   ]
  }
 ],
 "metadata": {
  "kernelspec": {
   "display_name": "Python 3",
   "language": "python",
   "name": "python3"
  },
  "language_info": {
   "codemirror_mode": {
    "name": "ipython",
    "version": 3
   },
   "file_extension": ".py",
   "mimetype": "text/x-python",
   "name": "python",
   "nbconvert_exporter": "python",
   "pygments_lexer": "ipython3",
   "version": "3.13.7"
  }
 },
 "nbformat": 4,
 "nbformat_minor": 5
}
